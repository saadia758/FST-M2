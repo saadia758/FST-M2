{
 "cells": [
  {
   "cell_type": "code",
   "execution_count": 2,
   "metadata": {},
   "outputs": [],
   "source": [
    "import findspark\n",
    "from pyspark.sql import SparkSession\n",
    "from pyspark.sql.functions import *\n",
    "\n",
    "findspark.init()\n",
    "\n",
    "spark = SparkSession.builder.master(\"local\").appName(\"FSTExample\").getOrCreate()"
   ]
  },
  {
   "cell_type": "code",
   "execution_count": 4,
   "metadata": {},
   "outputs": [
    {
     "name": "stderr",
     "output_type": "stream",
     "text": [
      "<>:2: SyntaxWarning: invalid escape sequence '\\s'\n",
      "<>:2: SyntaxWarning: invalid escape sequence '\\s'\n",
      "C:\\Users\\AnshulGupta\\AppData\\Local\\Temp\\ipykernel_18024\\2891446791.py:2: SyntaxWarning: invalid escape sequence '\\s'\n",
      "  words = inputFile.select(explode(split(inputFile.value, '\\s+')).alias('word'))\n"
     ]
    },
    {
     "name": "stdout",
     "output_type": "stream",
     "text": [
      "+------+-----+\n",
      "|  word|count|\n",
      "+------+-----+\n",
      "|    is|    1|\n",
      "|  file|    1|\n",
      "|sample|    1|\n",
      "|  This|    1|\n",
      "|     a|    1|\n",
      "|      |    1|\n",
      "+------+-----+\n",
      "\n"
     ]
    }
   ],
   "source": [
    "inputFile=spark.read.text(\"simpledata.txt\")\n",
    "words = inputFile.select(explode(split(inputFile.value, '\\s+')).alias('word'))\n",
    "words.groupBy('word').count().show()"
   ]
  },
  {
   "cell_type": "markdown",
   "metadata": {},
   "source": []
  },
  {
   "cell_type": "markdown",
   "metadata": {},
   "source": [
    "# Spark Example\n",
    "This is code block to import\n",
    "*find spark\n",
    "*Spark session\n",
    "*Spark SQL Function\n",
    "And then intialte spark session"
   ]
  }
 ],
 "metadata": {
  "kernelspec": {
   "display_name": "Python 3",
   "language": "python",
   "name": "python3"
  },
  "language_info": {
   "codemirror_mode": {
    "name": "ipython",
    "version": 3
   },
   "file_extension": ".py",
   "mimetype": "text/x-python",
   "name": "python",
   "nbconvert_exporter": "python",
   "pygments_lexer": "ipython3",
   "version": "3.12.4"
  }
 },
 "nbformat": 4,
 "nbformat_minor": 2
}
