{
 "cells": [
  {
   "cell_type": "code",
   "execution_count": 3,
   "metadata": {},
   "outputs": [
    {
     "name": "stderr",
     "output_type": "stream",
     "text": [
      "Setting default log level to \"WARN\".\n",
      "To adjust logging level use sc.setLogLevel(newLevel). For SparkR, use setLogLevel(newLevel).\n",
      "24/06/26 10:52:14 WARN NativeCodeLoader: Unable to load native-hadoop library for your platform... using builtin-java classes where applicable\n",
      "24/06/26 10:52:14 WARN Utils: Service 'SparkUI' could not bind on port 4040. Attempting port 4041.\n",
      "24/06/26 10:52:15 WARN Utils: Service 'SparkUI' could not bind on port 4041. Attempting port 4042.\n"
     ]
    }
   ],
   "source": [
    "import findspark\n",
    "from pyspark.sql import SparkSession\n",
    "from pyspark.sql.functions import *\n",
    "\n",
    "findspark.init()\n",
    "\n",
    "spark = SparkSession.builder.master(\"local\").appName(\"FSTExample\").getOrCreate()"
   ]
  },
  {
   "cell_type": "code",
   "execution_count": 4,
   "metadata": {},
   "outputs": [
    {
     "name": "stdout",
     "output_type": "stream",
     "text": [
      "+------------+-------+-------------------+-----+-------+-------------+-----------+\n",
      "|RecordNumber|Zipcode|               City|State|Country|Decommisioned|WorldRegion|\n",
      "+------------+-------+-------------------+-----+-------+-------------+-----------+\n",
      "|           1|    704|        PARC PARQUE|   PR|     US|        false|         NA|\n",
      "|           2|    704|PASEO COSTA DEL SUR|   PR|     US|        false|         NA|\n",
      "|          10|    709|       BDA SAN LUIS|   PR|     US|        false|         NA|\n",
      "|       61391|  76166|  CINGULAR WIRELESS|   TX|     US|        false|         NA|\n",
      "|       61392|  76177|         FORT WORTH|   TX|     US|        false|         NA|\n",
      "|       61393|  76177|           FT WORTH|   TX|     US|        false|         NA|\n",
      "|           4|    704|    URB EUGENE RICE|   PR|     US|        false|         NA|\n",
      "|       39827|  85209|               MESA|   AZ|     US|        false|         NA|\n",
      "|       39828|  85210|               MESA|   AZ|     US|        false|         NA|\n",
      "|       49345|  32046|           HILLIARD|   FL|     US|        false|         NA|\n",
      "|       49346|  34445|             HOLDER|   FL|     US|        false|         NA|\n",
      "|       49347|  32564|               HOLT|   FL|     US|        false|         NA|\n",
      "|       49348|  34487|          HOMOSASSA|   FL|     US|        false|         NA|\n",
      "|          10|    708|       BDA SAN LUIS|   PR|     US|        false|         NA|\n",
      "|           3|    704|      SECT LANAUSSE|   PR|     US|        false|         NA|\n",
      "|       54354|  36275|      SPRING GARDEN|   AL|     US|        false|         NA|\n",
      "|       54355|  35146|        SPRINGVILLE|   AL|     US|        false|         NA|\n",
      "|       54356|  35585|        SPRUCE PINE|   AL|     US|        false|         NA|\n",
      "|       76511|  27007|           ASH HILL|   NC|     US|        false|         NA|\n",
      "|       76512|  27203|           ASHEBORO|   NC|     US|        false|         NA|\n",
      "+------------+-------+-------------------+-----+-------+-------------+-----------+\n",
      "only showing top 20 rows\n",
      "\n"
     ]
    }
   ],
   "source": [
    "df = spark.read.option('multiline','true').json('zipcodes.json')\n",
    "zc = df.select(df.RecordNumber, df.Zipcode, df.City, df.State,df.Country, df.Decommisioned,df.WorldRegion)\n",
    "zc.show()"
   ]
  },
  {
   "cell_type": "markdown",
   "metadata": {},
   "source": [
    "Aggregate functions"
   ]
  },
  {
   "cell_type": "code",
   "execution_count": 5,
   "metadata": {},
   "outputs": [
    {
     "name": "stdout",
     "output_type": "stream",
     "text": [
      "+-----+-----+\n",
      "|State|count|\n",
      "+-----+-----+\n",
      "|   PR|    6|\n",
      "|   FL|    4|\n",
      "|   NC|    3|\n",
      "|   AL|    3|\n",
      "|   TX|    3|\n",
      "|   AZ|    2|\n",
      "+-----+-----+\n",
      "\n"
     ]
    }
   ],
   "source": [
    "zc.groupBy('State').count().orderBy('count',ascending=False).show()"
   ]
  },
  {
   "cell_type": "markdown",
   "metadata": {},
   "source": [
    "Sorting data"
   ]
  },
  {
   "cell_type": "code",
   "execution_count": 6,
   "metadata": {},
   "outputs": [
    {
     "name": "stdout",
     "output_type": "stream",
     "text": [
      "+------------+-------+-------------------+-----+-------+-------------+-----------+\n",
      "|RecordNumber|Zipcode|               City|State|Country|Decommisioned|WorldRegion|\n",
      "+------------+-------+-------------------+-----+-------+-------------+-----------+\n",
      "|           1|    704|        PARC PARQUE|   PR|     US|        false|         NA|\n",
      "|           2|    704|PASEO COSTA DEL SUR|   PR|     US|        false|         NA|\n",
      "|           4|    704|    URB EUGENE RICE|   PR|     US|        false|         NA|\n",
      "|           3|    704|      SECT LANAUSSE|   PR|     US|        false|         NA|\n",
      "|          10|    708|       BDA SAN LUIS|   PR|     US|        false|         NA|\n",
      "|          10|    709|       BDA SAN LUIS|   PR|     US|        false|         NA|\n",
      "|       76511|  27007|           ASH HILL|   NC|     US|        false|         NA|\n",
      "|       76512|  27203|           ASHEBORO|   NC|     US|        false|         NA|\n",
      "|       76513|  27204|           ASHEBORO|   NC|     US|        false|         NA|\n",
      "|       49345|  32046|           HILLIARD|   FL|     US|        false|         NA|\n",
      "|       49347|  32564|               HOLT|   FL|     US|        false|         NA|\n",
      "|       49346|  34445|             HOLDER|   FL|     US|        false|         NA|\n",
      "|       49348|  34487|          HOMOSASSA|   FL|     US|        false|         NA|\n",
      "|       54355|  35146|        SPRINGVILLE|   AL|     US|        false|         NA|\n",
      "|       54356|  35585|        SPRUCE PINE|   AL|     US|        false|         NA|\n",
      "|       54354|  36275|      SPRING GARDEN|   AL|     US|        false|         NA|\n",
      "|       61391|  76166|  CINGULAR WIRELESS|   TX|     US|        false|         NA|\n",
      "|       61392|  76177|         FORT WORTH|   TX|     US|        false|         NA|\n",
      "|       61393|  76177|           FT WORTH|   TX|     US|        false|         NA|\n",
      "|       39827|  85209|               MESA|   AZ|     US|        false|         NA|\n",
      "+------------+-------+-------------------+-----+-------+-------------+-----------+\n",
      "only showing top 20 rows\n",
      "\n"
     ]
    }
   ],
   "source": [
    "zc.orderBy(df.Zipcode.asc()).show()"
   ]
  },
  {
   "cell_type": "markdown",
   "metadata": {},
   "source": [
    "Simple filtering"
   ]
  },
  {
   "cell_type": "code",
   "execution_count": 7,
   "metadata": {},
   "outputs": [
    {
     "name": "stdout",
     "output_type": "stream",
     "text": [
      "+------------+-------+-------------------+-----+-------+-------------+-----------+\n",
      "|RecordNumber|Zipcode|               City|State|Country|Decommisioned|WorldRegion|\n",
      "+------------+-------+-------------------+-----+-------+-------------+-----------+\n",
      "|           1|    704|        PARC PARQUE|   PR|     US|        false|         NA|\n",
      "|           2|    704|PASEO COSTA DEL SUR|   PR|     US|        false|         NA|\n",
      "|          10|    709|       BDA SAN LUIS|   PR|     US|        false|         NA|\n",
      "|       61391|  76166|  CINGULAR WIRELESS|   TX|     US|        false|         NA|\n",
      "|       61392|  76177|         FORT WORTH|   TX|     US|        false|         NA|\n",
      "|       61393|  76177|           FT WORTH|   TX|     US|        false|         NA|\n",
      "|           4|    704|    URB EUGENE RICE|   PR|     US|        false|         NA|\n",
      "|          10|    708|       BDA SAN LUIS|   PR|     US|        false|         NA|\n",
      "|           3|    704|      SECT LANAUSSE|   PR|     US|        false|         NA|\n",
      "+------------+-------+-------------------+-----+-------+-------------+-----------+\n",
      "\n"
     ]
    }
   ],
   "source": [
    "zc.filter((df.State == 'PR') | (df.State == 'TX')).show()\n",
    "zc.filter((df.State == 'PR') & (df.Zipcode == 709)).show()"
   ]
  }
 ],
 "metadata": {
  "kernelspec": {
   "display_name": "Python 3",
   "language": "python",
   "name": "python3"
  },
  "language_info": {
   "codemirror_mode": {
    "name": "ipython",
    "version": 3
   },
   "file_extension": ".py",
   "mimetype": "text/x-python",
   "name": "python",
   "nbconvert_exporter": "python",
   "pygments_lexer": "ipython3",
   "version": "3.12.1"
  }
 },
 "nbformat": 4,
 "nbformat_minor": 2
}
